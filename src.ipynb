{
 "cells": [
  {
   "cell_type": "code",
   "execution_count": null,
   "metadata": {},
   "outputs": [],
   "source": [
    "import pandas as pd\n",
    "import numpy as np\n",
    "\n",
    "from sklearn import model_selection\n",
    "from sklearn import metrics\n",
    "\n",
    "import lightgbm as lgb"
   ]
  },
  {
   "cell_type": "code",
   "execution_count": null,
   "metadata": {},
   "outputs": [],
   "source": [
    "df_train = pd.read_csv('/kaggle/input/playground-series-s3e14/train.csv')\n",
    "df_test = pd.read_csv('/kaggle/input/playground-series-s3e14/test.csv')"
   ]
  },
  {
   "cell_type": "code",
   "execution_count": null,
   "metadata": {},
   "outputs": [],
   "source": [
    "df_train = df_train.drop(['id', 'MinOfUpperTRange', 'AverageOfUpperTRange', 'MaxOfLowerTRange', 'MinOfLowerTRange',\n",
    "                          'AverageOfLowerTRange','AverageRainingDays'] , axis=1)\n",
    "df_test = df_test.drop(['id', 'MinOfUpperTRange', 'AverageOfUpperTRange', 'MaxOfLowerTRange', 'MinOfLowerTRange',\n",
    "                            'AverageOfLowerTRange','AverageRainingDays'] , axis=1)"
   ]
  },
  {
   "cell_type": "code",
   "execution_count": null,
   "metadata": {},
   "outputs": [],
   "source": [
    "X = df_train.drop(['yield'], axis=1)\n",
    "y = df_train['yield']\n",
    "x_train, x_valid, y_train, y_valid = model_selection.train_test_split(X, y, test_size=0.2, random_state=42)"
   ]
  },
  {
   "cell_type": "code",
   "execution_count": null,
   "metadata": {},
   "outputs": [],
   "source": [
    "reg_train = lgb.Dataset(x_train, y_train)\n",
    "reg_test = lgb.Dataset(x_valid, y_valid, reference=reg_train)\n"
   ]
  },
  {
   "cell_type": "code",
   "execution_count": null,
   "metadata": {},
   "outputs": [],
   "source": [
    "params = {'n_jobs': -1,\n",
    "        'learning_rate': 0.04,\n",
    "        'max_bin': 1000,\n",
    "        'colsample_bytree': .8,\n",
    "        'subsample': .7, \n",
    "        'bagging_freq': 1,\n",
    "        'objective': 'regression_l1',\n",
    "        'metric': 'mae',\n",
    "        'early_stopping_rounds': 200,\n",
    "        'verbosity': -1}\n",
    "\n",
    "model = lgb.train(params, reg_train, num_boost_round=10000, valid_sets=[reg_train, reg_test], verbose_eval=1000)"
   ]
  },
  {
   "cell_type": "code",
   "execution_count": null,
   "metadata": {},
   "outputs": [],
   "source": [
    "submit_params = {'n_jobs': -1,\n",
    "        'learning_rate': 0.04,\n",
    "        'max_bin': 1000,\n",
    "        'colsample_bytree': .8,\n",
    "        'subsample': .7, \n",
    "        'bagging_freq': 1,\n",
    "        'objective': 'regression_l1',\n",
    "        'metric': 'mae',\n",
    "        'verbosity': -1}\n",
    "submit_train = lgb.Dataset(X, y)\n",
    "model = lgb.train(submit_params, submit_train, num_boost_round=10000, verbose_eval=1000)"
   ]
  },
  {
   "cell_type": "code",
   "execution_count": null,
   "metadata": {},
   "outputs": [],
   "source": [
    "sample_submission = pd.read_csv('/kaggle/input/playground-series-s3e14/sample_submission.csv')\n",
    "pred = model.predict(df_test)\n",
    "sample_submission['yield'] = pred\n",
    "sample_submission.to_csv('submission.csv', index=False)\n"
   ]
  }
 ],
 "metadata": {
  "language_info": {
   "name": "python"
  },
  "orig_nbformat": 4
 },
 "nbformat": 4,
 "nbformat_minor": 2
}
